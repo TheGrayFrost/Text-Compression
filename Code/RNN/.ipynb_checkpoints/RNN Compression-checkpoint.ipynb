{
 "cells": [
  {
   "cell_type": "code",
   "execution_count": 56,
   "metadata": {},
   "outputs": [],
   "source": [
    "import numpy as np\n",
    "import argparse\n",
    "import json"
   ]
  },
  {
   "cell_type": "code",
   "execution_count": 57,
   "metadata": {},
   "outputs": [],
   "source": [
    "#returns argument parser\n",
    "def get_argument_parser():\n",
    "    parser = argparse.ArgumentParser()\n",
    "    parser.add_argument('--data_type', type=str, default='iid',\n",
    "                        help='the type of data that needs to be generated')\n",
    "    parser.add_argument('--num_samples', type=int, default=100000,\n",
    "                        help='length of the sequence to be generated')\n",
    "    parser.add_argument('--markovity', type=int, default=30,\n",
    "                        help='steps for xentropy or hmm data')\n",
    "    parser.add_argument('--file_name', type=str, default='../../Data/Original Data/input.txt',\n",
    "                        help='output file name')\n",
    "    parser.add_argument('--info_file', type=str, default='../../Data/Original Data/input_info.txt',\n",
    "                        help='info file name')\n",
    "    parser.add_argument('--p', type=float, default=0.5,\n",
    "                        help='the probability for the entire sequence (for iid)\\\n",
    "                        or the base (for xentropy or hmm)')\n",
    "    parser.add_argument('--n', type=float, default=0.0,\n",
    "                        help='the probability for the base for hmm')\n",
    "    \n",
    "    return parser"
   ]
  },
  {
   "cell_type": "code",
   "execution_count": 58,
   "metadata": {},
   "outputs": [],
   "source": [
    "# Computes the binary entropy\n",
    "def entropy_iid(prob):\n",
    "    p1 = prob\n",
    "    p0 = 1.0 - prob\n",
    "    try: #in case p1 is 1.0 or 0.0, except block handles\n",
    "        H = -(p1*np.log2(p1) + p0*np.log2(p0))\n",
    "    except:\n",
    "        H = 0\n",
    "    return H"
   ]
  },
  {
   "cell_type": "code",
   "execution_count": 61,
   "metadata": {},
   "outputs": [],
   "source": [
    "def main():\n",
    "    parser = get_argument_parser()\n",
    "    FLAGS = parser.parse_known_args()[0]\n",
    "    print FLAGS\n",
    "    _keys = ['data_type', 'p', 'entropy'] #for the info file\n",
    "\n",
    "    #initialise empty data\n",
    "    data = np.empty(FLAGS.num_samples, dtype='S1')\n",
    "    \n",
    "    #Generate data\n",
    "    if FLAGS.data_type=='iid':\n",
    "        data = np.random.choice(['a', 'b'], size=FLAGS.num_samples, p=[1-FLAGS.p, FLAGS.p])\n",
    "        FLAGS.entropy = entropy_iid(FLAGS.p)\n",
    " \n",
    "    elif FLAGS.data_type=='xentropy':\n",
    "        data[:FLAGS.markovity] = np.random.choice(['a', 'b'], size=FLAGS.markovity, p=[1-FLAGS.p, FLAGS.p])\n",
    "        for i in range(FLAGS.markovity, FLAGS.num_samples):\n",
    "            if data[i-1] == data[i-FLAGS.markovity]:\n",
    "                data[i] = 'a'\n",
    "            else:\n",
    "                data[i] = 'b'\n",
    "        FLAGS.entropy = 0\n",
    "        _keys.append('markovity')\n",
    "    \n",
    "    elif FLAGS.data_type=='hmm':\n",
    "        data[:FLAGS.markovity,:] = np.random.choice(['a', 'b'], size=(FLAGS.markovity,1), p=[1-FLAGS.p, FLAGS.p])\n",
    "        for i in range(FLAGS.markovity, FLAGS.num_samples):\n",
    "            if data[i-1] == data[i-FLAGS.markovity]:\n",
    "                data[i] = np.random.choice(['a','b'], p=[1-FLAGS.n, FLAGS.n])\n",
    "            else:\n",
    "                data[i] = np.random.choice(['b','a'], p=[1-FLAGS.n, FLAGS.n])\n",
    "  \n",
    "        FLAGS.entropy = entropy_iid(FLAGS.n) \n",
    "        _keys.append('n')\n",
    "        _keys.append('markovity')\n",
    "        \n",
    "    print 'Data Generated'\n",
    "    np.savetxt(FLAGS.file_name, data, delimiter='', fmt='%s', newline='');\n",
    "    print 'Data saved in file: ' + FLAGS.file_name\n",
    "    \n",
    "    args = vars(FLAGS)\n",
    "    info = {key : args[key] for key in _keys }\n",
    "    with open(FLAGS.info_file, 'wb') as f:\n",
    "        json.dump(info,f)\n",
    "    print 'Info file generated: ' + FLAGS.info_file"
   ]
  },
  {
   "cell_type": "code",
   "execution_count": 60,
   "metadata": {},
   "outputs": [
    {
     "name": "stdout",
     "output_type": "stream",
     "text": [
      "Data Generated\n",
      "Data saved in file: input.txt\n",
      "Info file generated: input_info.txt\n"
     ]
    }
   ],
   "source": [
    "main()"
   ]
  },
  {
   "cell_type": "code",
   "execution_count": 62,
   "metadata": {},
   "outputs": [
    {
     "data": {
      "text/plain": [
       "'../../Data/Generated Data/ip.txt'"
      ]
     },
     "execution_count": 62,
     "metadata": {},
     "output_type": "execute_result"
    }
   ],
   "source": [
    "data_dir = '../../Data/Generated Data/'\n",
    "val_name = 'ip.txt'\n",
    "os.path.join(data_dir, val_name)"
   ]
  },
  {
   "cell_type": "code",
   "execution_count": null,
   "metadata": {},
   "outputs": [],
   "source": []
  }
 ],
 "metadata": {
  "kernelspec": {
   "display_name": "Python 2",
   "language": "python",
   "name": "python2"
  },
  "language_info": {
   "codemirror_mode": {
    "name": "ipython",
    "version": 2
   },
   "file_extension": ".py",
   "mimetype": "text/x-python",
   "name": "python",
   "nbconvert_exporter": "python",
   "pygments_lexer": "ipython2",
   "version": "2.7.14"
  }
 },
 "nbformat": 4,
 "nbformat_minor": 2
}
